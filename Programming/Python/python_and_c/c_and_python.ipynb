{
 "cells": [
  {
   "cell_type": "markdown",
   "metadata": {
    "hideCode": false,
    "hidePrompt": false,
    "toc": "true"
   },
   "source": [
    "# Table of Contents\n",
    " <p><div class=\"lev1 toc-item\"><a href=\"#Install-pcre-(not-pcre2)-and-swig\" data-toc-modified-id=\"Install-pcre-(not-pcre2)-and-swig-1\"><span class=\"toc-item-num\">1&nbsp;&nbsp;</span>Install pcre (not pcre2) and swig</a></div><div class=\"lev1 toc-item\"><a href=\"#Using-swig-to-create-python-modules-from-c-program\" data-toc-modified-id=\"Using-swig-to-create-python-modules-from-c-program-2\"><span class=\"toc-item-num\">2&nbsp;&nbsp;</span>Using swig to create python modules from c program</a></div><div class=\"lev2 toc-item\"><a href=\"#C-program-used-as-the-module\" data-toc-modified-id=\"C-program-used-as-the-module-21\"><span class=\"toc-item-num\">2.1&nbsp;&nbsp;</span>C program used as the module</a></div><div class=\"lev2 toc-item\"><a href=\"#Interface-file-for-C-and-Python\" data-toc-modified-id=\"Interface-file-for-C-and-Python-22\"><span class=\"toc-item-num\">2.2&nbsp;&nbsp;</span>Interface file for C and Python</a></div><div class=\"lev2 toc-item\"><a href=\"#Compile-C-and-Interface-File-Using-Swig-and-Create-Python-Module-(.o,-.py,-and-_.so)\" data-toc-modified-id=\"Compile-C-and-Interface-File-Using-Swig-and-Create-Python-Module-(.o,-.py,-and-_.so)-23\"><span class=\"toc-item-num\">2.3&nbsp;&nbsp;</span>Compile C and Interface File Using Swig and Create Python Module (.o, .py, and _.so)</a></div><div class=\"lev2 toc-item\"><a href=\"#Makefile-To-Compile-Swig-Commands\" data-toc-modified-id=\"Makefile-To-Compile-Swig-Commands-24\"><span class=\"toc-item-num\">2.4&nbsp;&nbsp;</span>Makefile To Compile Swig Commands</a></div><div class=\"lev2 toc-item\"><a href=\"#Python-Program-To-Test-the-Module\" data-toc-modified-id=\"Python-Program-To-Test-the-Module-25\"><span class=\"toc-item-num\">2.5&nbsp;&nbsp;</span>Python Program To Test the Module</a></div>"
   ]
  },
  {
   "cell_type": "markdown",
   "metadata": {},
   "source": [
    "# Install pcre (not pcre2) and swig"
   ]
  },
  {
   "cell_type": "markdown",
   "metadata": {},
   "source": [
    "http://atmarkplant.com/install-swig-for-mac-os-x/  \n",
    "http://www.pcre.org/  \n",
    "\n",
    "First we need to install pcre then we can install swig in Mac. \n",
    "\n",
    "**Download**\n",
    "download and unzip the these folders to ~/Applications/\n",
    "\n",
    "**Install**    \n",
    "sudo -H ./configure  \n",
    "sudo -H make  \n",
    "sudo -h make install  \n",
    "\n",
    "**Check**  \n",
    "pcre-config --version  \n",
    "which swig  \n",
    "\n",
    "** Add to Library PATH  in ~/.bash_profile**    \n",
    "\\##==============================================================================  \n",
    "\\# Path and Library for pcre (required for swig )  \n",
    "\\# swig is needed for C/C++ to python,java etc conversion  \n",
    "##==============================================================================  \n",
    "LD_LIBRARY_PATH=/usr/local/lib:/usr/lib  \n",
    "export LD_LIBRARY_PATH  "
   ]
  },
  {
   "cell_type": "markdown",
   "metadata": {
    "collapsed": true
   },
   "source": [
    "# Using swig to create python modules from c program"
   ]
  },
  {
   "cell_type": "markdown",
   "metadata": {
    "collapsed": true
   },
   "source": [
    "https://en.wikibooks.org/wiki/Python_Programming/Extending_with_C\n",
    "\n",
    "http://www.expobrain.net/2011/01/23/swig-tutorial-for-mac-os-x/\n",
    "http://www.swig.org/Doc1.3/Python.html#Python_nn10\n",
    "https://metaphor.ethz.ch/fsdb/sam/PythonTutorial/combining.html\n",
    "https://stackoverflow.com/questions/145270/calling-c-c-from-python\n",
    "http://intermediate-and-advanced-software-carpentry.readthedocs.io/en/latest/c++-wrapping.html\n",
    "\n",
    "    \n",
    "    "
   ]
  },
  {
   "cell_type": "markdown",
   "metadata": {
    "collapsed": true
   },
   "source": [
    "## C program used as the module"
   ]
  },
  {
   "cell_type": "markdown",
   "metadata": {},
   "source": [
    "```c\n",
    "/* File: hello.c */\n",
    "\n",
    "// Ref: http://www.expobrain.net/2011/01/23/swig-tutorial-for-mac-os-x/\n",
    "\n",
    "#include <stdio.h>\n",
    "#include <time.h>\n",
    "double My_variable = 3.0;\n",
    "\n",
    "int fact(int n) {\n",
    "    if (n <= 1) return 1;\n",
    "    else return n*fact(n-1);\n",
    "}\n",
    "\n",
    "int my_mod(int x, int y) {\n",
    "    return (x%y);\n",
    "}\n",
    "\n",
    "char *get_time()\n",
    "{\n",
    "    time_t ltime;\n",
    "    time(&ltime);\n",
    "    return ctime(&ltime);\n",
    "}\n",
    "```"
   ]
  },
  {
   "cell_type": "markdown",
   "metadata": {},
   "source": [
    "## Interface file for C and Python "
   ]
  },
  {
   "cell_type": "markdown",
   "metadata": {},
   "source": [
    "```c\n",
    "/*File: hello.i */\n",
    "%module hello\n",
    "%{\n",
    "    /* Put header files here or function declarations like below */\n",
    "    extern double My_variable;\n",
    "    extern int fact(int n);\n",
    "    extern int my_mod(int x, int y);\n",
    "    extern char *get_time();\n",
    "%}\n",
    "\n",
    "extern double My_variable;\n",
    "extern int fact(int n);\n",
    "extern int my_mod(int x, int y);\n",
    "extern char *get_time();\n",
    "```"
   ]
  },
  {
   "cell_type": "markdown",
   "metadata": {},
   "source": [
    "## Compile C and Interface File Using Swig and Create Python Module (.o, .py, and _.so)"
   ]
  },
  {
   "cell_type": "markdown",
   "metadata": {},
   "source": [
    " 1. swig -python hello.i    (NOTE: python, not python3)  \n",
    ">This creates three files: hello.py hello.o hello_wrap.c  \n",
    ">hello.py is required by python in future.  \n",
    ">hello.o and hello_wrap.c are intermediate files.  \n",
    "    \n",
    "2. gcc -O2  -fpic -c hello.c hello_wrap.c -I /Library/Frameworks/Python.framework/Versions/3.6/include/python3.6m\n",
    " \n",
    ">This creates hello_wrap.o  \n",
    ">This is intermediate file.  \n",
    "\n",
    "3. gcc -O2  -L/Library/Frameworks/Python.framework/Versions/3.6/lib/python3.6/config-3.6m-darwin -lpython3.6m -shared hello.o hello_wrap.o -o _hello.so\n",
    "\n",
    "> This will create _hello.so.  \n",
    "> This is required by future python program.  "
   ]
  },
  {
   "cell_type": "markdown",
   "metadata": {},
   "source": [
    "## Makefile To Compile Swig Commands"
   ]
  },
  {
   "cell_type": "code",
   "execution_count": 15,
   "metadata": {},
   "outputs": [],
   "source": [
    "makefile = \"\"\"\n",
    "# Program : Makefile for swig program to convert c to python3\n",
    "# Author  : Bhishan Poudel\n",
    "# Date    : Jun 30, 2017 Fri\n",
    "#\n",
    "#\n",
    "#\n",
    "# Convension: There should be foo.c and foo.i and module name should be foo.\n",
    "# Python3 include path: python3-config --includes\n",
    "# Python3 librarty path: python3-config --ldflags\n",
    "#\n",
    "# Description:\n",
    "# 1. swig -python hello.i    (NOTE: python, not python3)\n",
    "#    This creates three files: hello.py hello.o hello_wrap.c\n",
    "#    hello.py is required by python in future.\n",
    "#    hello.o and hello_wrap.c are intermediate files.\n",
    "#\n",
    "# 2. gcc -O2  -fpic -c hello.c hello_wrap.c -I /Library/Frameworks/Python.framework/Versions/3.6/include/python3.6m\n",
    "#\n",
    "#    This creates hello_wrap.o\n",
    "#    This is intermediate file.\n",
    "#\n",
    "# 3. gcc -O2  -L/Library/Frameworks/Python.framework/Versions/3.6/lib/python3.6/config-3.6m-darwin -lpython3.6m -shared hello.o hello_wrap.o -o _hello.so\n",
    "#\n",
    "#   This will create _hello.so.\n",
    "#   This is required by future python program.\n",
    "# \n",
    "# Note: python needs three files: hello.py hello.o and _hello.so\n",
    "#       hello.c and hello.c are created by user. \n",
    "#\n",
    "#       For python2 use appropriate INCLUDE and LIB directory.\n",
    "#\n",
    "# TO INSTALL SWIG:\n",
    "# First install pcre-8.39, then install swig usig configure,make,makefile. \n",
    "\n",
    "CC=gcc -O2 \n",
    "INC=-I /Library/Frameworks/Python.framework/Versions/3.6/include/python3.6m\n",
    "LIB=-L/Library/Frameworks/Python.framework/Versions/3.6/lib/python3.6/config-3.6m-darwin -lpython3.6m -shared\n",
    "PRG=hello\n",
    "\n",
    "\n",
    "# Execute program and clean it\n",
    "default: all\n",
    "\n",
    "\n",
    "all : swig_ wrap_ build_ clean_\n",
    "swig_ :\n",
    "\tswig -python $(PRG).i\n",
    "\n",
    "wrap_ :\n",
    "\t$(CC) -fpic -c $(PRG).c $(PRG)_wrap.c $(INC)\n",
    "\n",
    "build_ :\n",
    "\t$(CC) $(LIB) $(PRG).o $(PRG)_wrap.o -o _$(PRG).so\n",
    "\n",
    "clean_ :\n",
    "\trm -f $(PRG).pyc $(PRG)_wrap.c $(PRG)_wrap.o\n",
    "\trm -rf __pycache__ .DS_Store\n",
    "\n",
    "\n",
    "\n",
    "# Utility targets\n",
    ".PHONY: clean\n",
    "\n",
    "clean:\n",
    "\trm -f $(PRG).pyc $(PRG)_wrap.c $(PRG)_wrap.o\n",
    "\trm -rf __pycache__ .DS_Store\n",
    "\trm -f $(PRG).py $(PRG).py _$(PRG).so\n",
    "\n",
    "\n",
    "\n",
    "\n",
    "#swig -python hello.i\n",
    "#gcc -O2 -fpic -c hello.c hello_wrap.c -I/Library/Frameworks/Python.framework/Versions/3.6/include/python3.6m \n",
    "\n",
    "#gcc -O2 -L/Library/Frameworks/Python.framework/Versions/3.6/lib/python3.6/config-3.6m-darwin -lpython3.6m -shared hello.o hello_wrap.o -o _hello.so\n",
    "#clear; python3 hello_test.py\n",
    "#rm -f hello_wrap.c hello_wrap.o hello.pyc\n",
    "\"\"\";"
   ]
  },
  {
   "cell_type": "markdown",
   "metadata": {},
   "source": [
    "## Python Program To Test the Module"
   ]
  },
  {
   "cell_type": "markdown",
   "metadata": {},
   "source": [
    "```python\n",
    "# File: hello_test.py\n",
    "# It needs three files hello.py, hello.o and _hello.so\n",
    "# These three are created by swig using hello.c and hello.i\n",
    "# swig = Simplified Wrapper and Interface Generator\n",
    "# i is the interface file.\n",
    "\n",
    "import hello\n",
    "\n",
    "a = hello.fact(5)\n",
    "print(('The value of a = ', a))\n",
    "\n",
    "```"
   ]
  },
  {
   "cell_type": "code",
   "execution_count": null,
   "metadata": {
    "collapsed": true
   },
   "outputs": [],
   "source": []
  }
 ],
 "metadata": {
  "hide_code_all_hidden": false,
  "kernelspec": {
   "display_name": "Python 3",
   "language": "python",
   "name": "python3"
  },
  "language_info": {
   "codemirror_mode": {
    "name": "ipython",
    "version": 3
   },
   "file_extension": ".py",
   "mimetype": "text/x-python",
   "name": "python",
   "nbconvert_exporter": "python",
   "pygments_lexer": "ipython3",
   "version": "3.5.2"
  },
  "toc": {
   "colors": {
    "hover_highlight": "#DAA520",
    "navigate_num": "#000000",
    "navigate_text": "#333333",
    "running_highlight": "#FF0000",
    "selected_highlight": "#FFD700",
    "sidebar_border": "#EEEEEE",
    "wrapper_background": "#FFFFFF"
   },
   "moveMenuLeft": true,
   "nav_menu": {
    "height": "171px",
    "width": "252px"
   },
   "navigate_menu": true,
   "number_sections": true,
   "sideBar": true,
   "threshold": 4,
   "toc_cell": true,
   "toc_section_display": "block",
   "toc_window_display": true,
   "widenNotebook": false
  }
 },
 "nbformat": 4,
 "nbformat_minor": 1
}
