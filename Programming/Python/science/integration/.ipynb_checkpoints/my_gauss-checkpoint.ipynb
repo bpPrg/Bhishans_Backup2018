{
 "cells": [
  {
   "cell_type": "code",
   "execution_count": 65,
   "metadata": {
    "collapsed": false
   },
   "outputs": [],
   "source": [
    "import numpy as np\n",
    "from numpy import sqrt, log\n",
    "from scipy.constants import c\n",
    "from scipy import integrate\n",
    "\n"
   ]
  },
  {
   "cell_type": "code",
   "execution_count": 69,
   "metadata": {
    "collapsed": false
   },
   "outputs": [
    {
     "name": "stdout",
     "output_type": "stream",
     "text": [
      "ans = 1.43164\n"
     ]
    },
    {
     "name": "stderr",
     "output_type": "stream",
     "text": [
      "/Library/Frameworks/Python.framework/Versions/3.5/lib/python3.5/site-packages/ipykernel/__main__.py:6: DeprecationWarning: object of type <class 'float'> cannot be safely interpreted as an integer.\n"
     ]
    }
   ],
   "source": [
    "# From Wolfram Alpah\n",
    "# integrate 1 + 3/x + 3 / x**(3/2) * sqrt(1 + x) * log(sqrt(1 + x)  - sqrt(x)) from 0.04 to 4\n",
    "# answer = 1.43164\n",
    "\n",
    "# Simpson method\n",
    "x = np.linspace(0.04,4, 1e6)\n",
    "D = 1 + 3/x + 3 / x**(3/2) * sqrt(1 + x) * log(sqrt(1 + x)  - sqrt(x))\n",
    "ans = integrate.simps(D,x) # Simpson method\n",
    "ans = integrate.trapz(D,x) # Trapezoidal method\n",
    "print('ans = {:.5f}'.format(ans))\n"
   ]
  },
  {
   "cell_type": "code",
   "execution_count": null,
   "metadata": {
    "collapsed": false
   },
   "outputs": [],
   "source": [
    "# Quadrature method\n",
    "D = lambda x: 1 + 3/x + 3 / x**(3/2) * sqrt(1 + x) * log(sqrt(1 + x)  - sqrt(x))\n",
    "ans,err = integrate.quad(D,0.04,4)\n",
    "print('ans = {:.5f}'.format(ans))"
   ]
  },
  {
   "cell_type": "code",
   "execution_count": 71,
   "metadata": {
    "collapsed": false
   },
   "outputs": [
    {
     "name": "stdout",
     "output_type": "stream",
     "text": [
      "37.50000000000001\n"
     ]
    }
   ],
   "source": [
    "# Quadrature method with arguments\n",
    "def f(x,a,b,c):\n",
    "    # x must be first varible\n",
    "    # a,b,c are parameters\n",
    "    return a* x + b + c\n",
    "\n",
    "# lambda method\n",
    "#f = lambda x,a,b,c: a* x + b + c\n",
    "\n",
    "\n",
    "# a = 1, b=2, c=3 limit from 0 to 5\n",
    "ans, err = integrate.quad(f,0,5,args=(1,2,3))\n",
    "print(ans)"
   ]
  },
  {
   "cell_type": "code",
   "execution_count": null,
   "metadata": {
    "collapsed": true
   },
   "outputs": [],
   "source": []
  }
 ],
 "metadata": {
  "kernelspec": {
   "display_name": "Python 3",
   "language": "python",
   "name": "python3"
  },
  "language_info": {
   "codemirror_mode": {
    "name": "ipython",
    "version": 3
   },
   "file_extension": ".py",
   "mimetype": "text/x-python",
   "name": "python",
   "nbconvert_exporter": "python",
   "pygments_lexer": "ipython3",
   "version": "3.5.2"
  }
 },
 "nbformat": 4,
 "nbformat_minor": 0
}
