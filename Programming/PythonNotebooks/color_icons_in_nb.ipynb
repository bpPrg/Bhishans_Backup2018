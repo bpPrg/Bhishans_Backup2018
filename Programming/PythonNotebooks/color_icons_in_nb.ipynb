{
 "cells": [
  {
   "cell_type": "markdown",
   "metadata": {
    "toc": "true"
   },
   "source": [
    "# Table of Contents\n",
    " <p><div class=\"lev1 toc-item\"><a href=\"#Printing-unicode-emojis-in-Markdown-or-Jupyter-notebooks\" data-toc-modified-id=\"Printing-unicode-emojis-in-Markdown-or-Jupyter-notebooks-1\"><span class=\"toc-item-num\">1&nbsp;&nbsp;</span>Printing unicode emojis in Markdown or Jupyter notebooks</a></div>"
   ]
  },
  {
   "cell_type": "markdown",
   "metadata": {},
   "source": [
    "# Printing unicode emojis in Markdown or Jupyter notebooks"
   ]
  },
  {
   "cell_type": "code",
   "execution_count": 1,
   "metadata": {
    "collapsed": true
   },
   "outputs": [],
   "source": [
    "# Ref:\n",
    "# https://stackoverflow.com/questions/23904274/is-there-a-way-to-get-colored-text-in-github-flavored-markdown\n",
    "# http://apps.timwhitlock.info/emoji/tables/unicode"
   ]
  },
  {
   "cell_type": "markdown",
   "metadata": {},
   "source": [
    "RED APPLE (&#x1F34E;): 🍎  \n",
    "GREEN APPLE (&#x1F34F;): 🍏  \n",
    "BLUE HEART (&#x1F499;): 💙  \n",
    "GREEN HEART (&#x1F49A;): 💚  \n",
    "YELLOW HEART (&#x1F49B;): 💛  \n",
    "PURPLE HEART (&#x1F49C;): 💜  \n",
    "GREEN BOOK (&#x1F4D7;): 📗  \n",
    "BLUE BOOK (&#x1F4D8;): 📘  \n",
    "ORANGE BOOK (&#x1F4D9;): 📙  \n",
    "LARGE RED CIRCLE (&#x1F534;): 🔴  \n",
    "LARGE BLUE CIRCLE (&#x1F535;): 🔵  \n",
    "LARGE ORANGE DIAMOND (&#x1F536;): 🔶  \n",
    "LARGE BLUE DIAMOND (&#x1F537;): 🔷  \n",
    "SMALL ORANGE DIAMOND (&#x1F538;): 🔸  \n",
    "SMALL BLUE DIAMOND (&#x1F539;): 🔹  \n",
    "UP-POINTING RED TRIANGLE (&#x1F53A;): 🔺  \n",
    "DOWN-POINTING RED TRIANGLE (&#x1F53B;): 🔻  \n",
    "UP-POINTING SMALL RED TRIANGLE (&#x1F53C;): 🔼  \n",
    "DOWN-POINTING SMALL RED TRIANGLE (&#x1F53D;): 🔽  "
   ]
  },
  {
   "cell_type": "code",
   "execution_count": 4,
   "metadata": {},
   "outputs": [
    {
     "name": "stdout",
     "output_type": "stream",
     "text": [
      "http://apps.timwhitlock.info/emoji/tables/unicode\r\n",
      "RED APPLE (&#x1F34E;): 🍎  \r\n",
      "GREEN APPLE (&#x1F34F;): 🍏  \r\n",
      "BLUE HEART (&#x1F499;): 💙  \r\n",
      "GREEN HEART (&#x1F49A;): 💚  \r\n",
      "YELLOW HEART (&#x1F49B;): 💛  \r\n",
      "PURPLE HEART (&#x1F49C;): 💜  \r\n",
      "GREEN BOOK (&#x1F4D7;): 📗  \r\n",
      "BLUE BOOK (&#x1F4D8;): 📘  \r\n",
      "ORANGE BOOK (&#x1F4D9;): 📙  \r\n",
      "LARGE RED CIRCLE (&#x1F534;): 🔴  \r\n",
      "LARGE BLUE CIRCLE (&#x1F535;): 🔵  \r\n",
      "LARGE ORANGE DIAMOND (&#x1F536;): 🔶  \r\n",
      "LARGE BLUE DIAMOND (&#x1F537;): 🔷  \r\n",
      "SMALL ORANGE DIAMOND (&#x1F538;): 🔸  \r\n",
      "SMALL BLUE DIAMOND (&#x1F539;): 🔹  \r\n",
      "UP-POINTING RED TRIANGLE (&#x1F53A;): 🔺  \r\n",
      "DOWN-POINTING RED TRIANGLE (&#x1F53B;): 🔻  \r\n",
      "UP-POINTING SMALL RED TRIANGLE (&#x1F53C;): 🔼  \r\n",
      "DOWN-POINTING SMALL RED TRIANGLE (&#x1F53D;): 🔽\r\n"
     ]
    }
   ],
   "source": [
    "!bp emoji"
   ]
  },
  {
   "cell_type": "code",
   "execution_count": null,
   "metadata": {
    "collapsed": true
   },
   "outputs": [],
   "source": []
  }
 ],
 "metadata": {
  "kernelspec": {
   "display_name": "Python 3",
   "language": "python",
   "name": "python3"
  },
  "language_info": {
   "codemirror_mode": {
    "name": "ipython",
    "version": 3
   },
   "file_extension": ".py",
   "mimetype": "text/x-python",
   "name": "python",
   "nbconvert_exporter": "python",
   "pygments_lexer": "ipython3",
   "version": "3.5.2"
  },
  "toc": {
   "colors": {
    "hover_highlight": "#DAA520",
    "navigate_num": "#000000",
    "navigate_text": "#333333",
    "running_highlight": "#FF0000",
    "selected_highlight": "#FFD700",
    "sidebar_border": "#EEEEEE",
    "wrapper_background": "#FFFFFF"
   },
   "moveMenuLeft": true,
   "nav_menu": {
    "height": "45px",
    "width": "252px"
   },
   "navigate_menu": true,
   "number_sections": true,
   "sideBar": true,
   "threshold": 4,
   "toc_cell": true,
   "toc_section_display": "block",
   "toc_window_display": true,
   "widenNotebook": false
  }
 },
 "nbformat": 4,
 "nbformat_minor": 1
}
