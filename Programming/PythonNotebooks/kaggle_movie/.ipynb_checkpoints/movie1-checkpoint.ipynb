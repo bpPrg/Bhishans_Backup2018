{
 "cells": [
  {
   "cell_type": "code",
   "execution_count": null,
   "metadata": {
    "_cell_guid": "4c27887c-b19a-849a-6045-f477b500f1de",
    "collapsed": true
   },
   "outputs": [],
   "source": [
    "# This Python 3 environment comes with many helpful analytics libraries installed\n",
    "# It is defined by the kaggle/python docker image: https://github.com/kaggle/docker-python\n",
    "# For example, here's several helpful packages to load in \n",
    "\n",
    "import numpy as np # linear algebra}\n",
    "import pandas as pd # data processing, CSV file I/O (e.g. pd.read_csv)\n",
    "%matplotlib inline\n",
    "\n",
    "# Input data files are available in the \"../input/\" directory.\n",
    "# For example, running this (by clicking run or pressing Shift+Enter) will list the files in the input directory\n",
    "\n",
    "data = pd.read_csv('data_movie.csv')\n",
    "\n",
    "data.columns.values"
   ]
  },
  {
   "cell_type": "code",
   "execution_count": null,
   "metadata": {
    "_cell_guid": "a944fa21-1792-95ce-288a-9fae7a195f56",
    "collapsed": true
   },
   "outputs": [],
   "source": [
    "data[data.director_name == 'James Cameron'][['movie_title', 'budget', 'gross']]"
   ]
  },
  {
   "cell_type": "code",
   "execution_count": null,
   "metadata": {
    "_cell_guid": "12db3170-7e02-d313-585f-0eb542f1b080",
    "collapsed": true
   },
   "outputs": [],
   "source": [
    "a = data[['movie_title', 'budget', 'gross']]\n",
    "a = a.set_index('movie_title')\n",
    "profit = a['gross'] / a['budget']\n",
    "a['profit_ratio'] = profit\n",
    "a.sort('profit_ratio', ascending=False)['profit_ratio'].head(10).plot('bar')"
   ]
  },
  {
   "cell_type": "code",
   "execution_count": null,
   "metadata": {
    "_cell_guid": "f5a5433b-4e3e-c3d7-393c-d83bc46b0095",
    "collapsed": true
   },
   "outputs": [],
   "source": [
    "directors = data.groupby('director_name').sum()\n",
    "movie_count = data.groupby('director_name').count()['color']\n",
    "directors['movie_count'] = movie_count\n",
    "#directors = data.groupby('director_name').sum().sort('budget', ascending=False)[['budget']]\n",
    "\n",
    "avg_budget = directors['budget'] / directors['movie_count']\n",
    "directors['avg_budget'] = avg_budget\n",
    "directors.sort('avg_budget', ascending=False)[['budget', 'movie_count', 'avg_budget']]"
   ]
  },
  {
   "cell_type": "code",
   "execution_count": null,
   "metadata": {
    "_cell_guid": "0ffcb91b-ce73-b9d7-881a-4c8bdafc1387",
    "collapsed": true
   },
   "outputs": [],
   "source": []
  }
 ],
 "metadata": {
  "_change_revision": 0,
  "_is_fork": false,
  "kernelspec": {
   "display_name": "Python 3",
   "language": "python",
   "name": "python3"
  },
  "language_info": {
   "codemirror_mode": {
    "name": "ipython",
    "version": 3
   },
   "file_extension": ".py",
   "mimetype": "text/x-python",
   "name": "python",
   "nbconvert_exporter": "python",
   "pygments_lexer": "ipython3",
   "version": "3.6.1"
  }
 },
 "nbformat": 4,
 "nbformat_minor": 1
}
