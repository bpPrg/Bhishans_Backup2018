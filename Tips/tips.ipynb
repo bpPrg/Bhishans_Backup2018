{
 "cells": [
  {
   "cell_type": "markdown",
   "metadata": {
    "toc": "true"
   },
   "source": [
    "# Table of Contents\n",
    " <p><div class=\"lev1 toc-item\"><a href=\"#Github\" data-toc-modified-id=\"Github-1\"><span class=\"toc-item-num\">1&nbsp;&nbsp;</span>Github</a></div><div class=\"lev1 toc-item\"><a href=\"#Pdf-djvu\" data-toc-modified-id=\"Pdf-djvu-2\"><span class=\"toc-item-num\">2&nbsp;&nbsp;</span>Pdf djvu</a></div><div class=\"lev1 toc-item\"><a href=\"#Ubuntu\" data-toc-modified-id=\"Ubuntu-3\"><span class=\"toc-item-num\">3&nbsp;&nbsp;</span>Ubuntu</a></div><div class=\"lev1 toc-item\"><a href=\"#Libraries\" data-toc-modified-id=\"Libraries-4\"><span class=\"toc-item-num\">4&nbsp;&nbsp;</span>Libraries</a></div><div class=\"lev1 toc-item\"><a href=\"#Programming-Tips\" data-toc-modified-id=\"Programming-Tips-5\"><span class=\"toc-item-num\">5&nbsp;&nbsp;</span>Programming Tips</a></div><div class=\"lev1 toc-item\"><a href=\"#Youtube\" data-toc-modified-id=\"Youtube-6\"><span class=\"toc-item-num\">6&nbsp;&nbsp;</span>Youtube</a></div><div class=\"lev1 toc-item\"><a href=\"#Mac\" data-toc-modified-id=\"Mac-7\"><span class=\"toc-item-num\">7&nbsp;&nbsp;</span>Mac</a></div><div class=\"lev1 toc-item\"><a href=\"#Softwares\" data-toc-modified-id=\"Softwares-8\"><span class=\"toc-item-num\">8&nbsp;&nbsp;</span>Softwares</a></div>"
   ]
  },
  {
   "cell_type": "markdown",
   "metadata": {},
   "source": [
    "# Github"
   ]
  },
  {
   "cell_type": "code",
   "execution_count": 5,
   "metadata": {},
   "outputs": [
    {
     "name": "stdout",
     "output_type": "stream",
     "text": [
      "\u001b[32mgitSteps.txt\u001b[m\u001b[m  \u001b[32mgitclean.txt\u001b[m\u001b[m  \u001b[32mgitpull.txt\u001b[m\u001b[m   \u001b[32mgitreset.txt\u001b[m\u001b[m\r\n",
      "\u001b[32mgitbranch.txt\u001b[m\u001b[m \u001b[32mgithub.txt\u001b[m\u001b[m    \u001b[32mgitpush.txt\u001b[m\u001b[m\r\n"
     ]
    }
   ],
   "source": [
    "!ls Github"
   ]
  },
  {
   "cell_type": "code",
   "execution_count": 7,
   "metadata": {},
   "outputs": [],
   "source": [
    "# !pygmentize Github/gitSteps.txt"
   ]
  },
  {
   "cell_type": "markdown",
   "metadata": {},
   "source": [
    "# Pdf djvu"
   ]
  },
  {
   "cell_type": "markdown",
   "metadata": {},
   "source": [
    "# Ubuntu"
   ]
  },
  {
   "cell_type": "markdown",
   "metadata": {},
   "source": [
    "# Libraries"
   ]
  },
  {
   "cell_type": "markdown",
   "metadata": {},
   "source": [
    "# Programming Tips"
   ]
  },
  {
   "cell_type": "markdown",
   "metadata": {},
   "source": [
    "# Youtube"
   ]
  },
  {
   "cell_type": "markdown",
   "metadata": {},
   "source": [
    "# Mac"
   ]
  },
  {
   "cell_type": "markdown",
   "metadata": {},
   "source": [
    "# Softwares"
   ]
  },
  {
   "cell_type": "code",
   "execution_count": null,
   "metadata": {
    "collapsed": true
   },
   "outputs": [],
   "source": []
  }
 ],
 "metadata": {
  "hide_code_all_hidden": false,
  "kernelspec": {
   "display_name": "Python 3",
   "language": "python",
   "name": "python3"
  },
  "language_info": {
   "codemirror_mode": {
    "name": "ipython",
    "version": 3
   },
   "file_extension": ".py",
   "mimetype": "text/x-python",
   "name": "python",
   "nbconvert_exporter": "python",
   "pygments_lexer": "ipython3",
   "version": "3.6.1"
  },
  "toc": {
   "colors": {
    "hover_highlight": "#DAA520",
    "navigate_num": "#000000",
    "navigate_text": "#333333",
    "running_highlight": "#FF0000",
    "selected_highlight": "#FFD700",
    "sidebar_border": "#EEEEEE",
    "wrapper_background": "#FFFFFF"
   },
   "moveMenuLeft": true,
   "nav_menu": {
    "height": "171px",
    "width": "252px"
   },
   "navigate_menu": true,
   "number_sections": true,
   "sideBar": true,
   "threshold": 4,
   "toc_cell": true,
   "toc_section_display": "block",
   "toc_window_display": true,
   "widenNotebook": false
  }
 },
 "nbformat": 4,
 "nbformat_minor": 1
}
